{
 "cells": [
  {
   "cell_type": "code",
   "execution_count": 1,
   "metadata": {
    "collapsed": true
   },
   "outputs": [
    {
     "ename": "ModuleNotFoundError",
     "evalue": "No module named 'twitter_keys'",
     "traceback": [
      "\u001b[1;31m---------------------------------------------------------------------------\u001b[0m",
      "\u001b[1;31mModuleNotFoundError\u001b[0m                       Traceback (most recent call last)",
      "\u001b[1;32m<ipython-input-1-e48ea2c61a66>\u001b[0m in \u001b[0;36m<module>\u001b[1;34m()\u001b[0m\n\u001b[0;32m      5\u001b[0m \u001b[1;33m\u001b[0m\u001b[0m\n\u001b[0;32m      6\u001b[0m \u001b[1;31m# create a file twitter_keys.py and add the tokens/keys below as variables in the file\u001b[0m\u001b[1;33m\u001b[0m\u001b[1;33m\u001b[0m\u001b[0m\n\u001b[1;32m----> 7\u001b[1;33m \u001b[1;32mfrom\u001b[0m \u001b[0mtwitter_keys\u001b[0m \u001b[1;32mimport\u001b[0m \u001b[0mconsumer_key\u001b[0m\u001b[1;33m,\u001b[0m \u001b[0mconsumer_secret\u001b[0m\u001b[1;33m\u001b[0m\u001b[0m\n\u001b[0m",
      "\u001b[1;31mModuleNotFoundError\u001b[0m: No module named 'twitter_keys'"
     ],
     "output_type": "error"
    }
   ],
   "source": [
    "import requests\n",
    "import tweepy\n",
    "import re\n",
    "import os\n",
    "\n",
    "# create a file twitter_keys.py and add the tokens/keys below as variables in the file\n",
    "from twitter_keys import consumer_key, consumer_secret"
   ]
  },
  {
   "cell_type": "code",
   "execution_count": 3,
   "metadata": {
    "collapsed": true
   },
   "outputs": [],
   "source": [
    "# Create the OAuthHandler\n",
    "auth = tweepy.OAuthHandler(consumer_key=consumer_key,\n",
    "                           consumer_secret=consumer_secret)\n",
    "# Construct the API instance\n",
    "api = tweepy.API(auth)\n",
    "\n",
    "# query parameter excludes the intentional photo to dirty the data\n",
    "params = {'q': '-\"are%20-being%20-made\"%20-\"your%20-data%20-dirty\"%20%23machinelearningflashcards-filter:retweets',\n",
    "          'from': 'chrisalbon',\n",
    "          'since': '2017-04-01', }"
   ]
  },
  {
   "cell_type": "code",
   "execution_count": 4,
   "metadata": {
    "collapsed": true
   },
   "outputs": [],
   "source": [
    "# query the API\n",
    "ml_flashcards_json = api.search(**params)"
   ]
  },
  {
   "cell_type": "code",
   "execution_count": 6,
   "metadata": {},
   "outputs": [
    {
     "name": "stdout",
     "output_type": "stream",
     "text": [
      "1 tweet was not processed due to a KeyError\n"
     ]
    }
   ],
   "source": [
    "# Create two lists: A list of image URLs and Titles\n",
    "media_urls = []\n",
    "titles = []\n",
    "for i in range(len(ml_flashcards_json)):\n",
    "        txt = ml_flashcards_json[i]\n",
    "        json = txt._json\n",
    "        title = re.sub(\"#\\S*\", \"\", str(json['text'])) # removes hashtag\n",
    "        title = re.sub(\"http\\S*\", \"\", title) # removes url\n",
    "        title = str(title.strip()) # strips spacing away\n",
    "        try: # KeyError is raised when there is no image attached to the tweet\n",
    "            media_url = json['entities']['media'][0]['media_url']\n",
    "            media_urls.append(media_url)\n",
    "            titles.append(title)\n",
    "        except KeyError:\n",
    "            counter = 0\n",
    "            counter += 1\n",
    "            print(\"{} tweet was not processed due to a KeyError\".format(counter))"
   ]
  },
  {
   "cell_type": "code",
   "execution_count": 39,
   "metadata": {
    "collapsed": true
   },
   "outputs": [],
   "source": [
    "# output the images to the flashcards directory\n",
    "current_dirctory = os.getcwd()\n",
    "os.chdir(current_dirctory + \"/flashcards\")\n",
    "for i in zip(media_urls, titles):\n",
    "    img = requests.get(i[0])\n",
    "    f = open(str(i[1]) + \".jpg\", mode='wb')\n",
    "    f.write(img.content)\n",
    "    f.close()"
   ]
  }
 ],
 "metadata": {
  "kernelspec": {
   "display_name": "Python 3",
   "language": "python",
   "name": "python3"
  },
  "language_info": {
   "codemirror_mode": {
    "name": "ipython",
    "version": 3
   },
   "file_extension": ".py",
   "mimetype": "text/x-python",
   "name": "python",
   "nbconvert_exporter": "python",
   "pygments_lexer": "ipython3",
   "version": "3.6.1"
  }
 },
 "nbformat": 4,
 "nbformat_minor": 2
}
